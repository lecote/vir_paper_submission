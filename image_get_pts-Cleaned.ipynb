{
 "cells": [
  {
   "cell_type": "code",
   "execution_count": 1,
   "id": "3a1a17d7-5ae3-4bf5-ba80-ec5aa405289a",
   "metadata": {},
   "outputs": [],
   "source": [
    "from get_pts_utils import get_ball_coords, create_label_menu, point_annotator\n",
    "from pathlib import Path\n",
    "from tqdm.auto import tqdm"
   ]
  },
  {
   "cell_type": "code",
   "execution_count": 2,
   "id": "7dcead44-621e-4271-a8fc-122954227af1",
   "metadata": {},
   "outputs": [],
   "source": [
    "IMAGE_DIR = Path(\"./20241205_JLF1781_1.5f/\")\n",
    "CSV_DIR = Path(IMAGE_DIR.as_posix() + '_csv')\n",
    "CSV_DIR.mkdir(exist_ok=True)\n",
    "\n",
    "IM_PROP = dict(channel_axis = 1, \n",
    "           blending=\"additive\", \n",
    "           name=['HMR-1', 'PKC-3 Is28 nuc'], \n",
    "           colormap=['green','magenta'], \n",
    "           contrast_limits=[(199,900),(195,400)])"
   ]
  },
  {
   "cell_type": "code",
   "execution_count": 3,
   "id": "8e4a6c3b-46f4-40ec-8433-df9d21fe5508",
   "metadata": {
    "scrolled": true
   },
   "outputs": [
    {
     "name": "stderr",
     "output_type": "stream",
     "text": [
      "/Users/bensnyder/anaconda3/envs/lauren_paper/lib/python3.12/site-packages/napari/plugins/_plugin_manager.py:555: UserWarning: Plugin 'napari_skimage_regionprops2' has already registered a function widget 'duplicate current frame' which has now been overwritten\n",
      "  warn(message=warn_message)\n",
      "/Users/bensnyder/anaconda3/envs/lauren_paper/lib/python3.12/site-packages/napari/plugins/_plugin_manager.py:555: UserWarning: Plugin 'napari_skimage_regionprops2' has already registered a function widget 'duplicate current frame' which has now been overwritten\n",
      "  warn(message=warn_message)\n",
      "/Users/bensnyder/anaconda3/envs/lauren_paper/lib/python3.12/site-packages/napari/plugins/_plugin_manager.py:555: UserWarning: Plugin 'napari_skimage_regionprops2' has already registered a function widget 'duplicate current frame' which has now been overwritten\n",
      "  warn(message=warn_message)\n",
      "/Users/bensnyder/anaconda3/envs/lauren_paper/lib/python3.12/site-packages/napari/plugins/_plugin_manager.py:555: UserWarning: Plugin 'napari_skimage_regionprops2' has already registered a function widget 'duplicate current frame' which has now been overwritten\n",
      "  warn(message=warn_message)\n",
      "/Users/bensnyder/anaconda3/envs/lauren_paper/lib/python3.12/site-packages/napari/plugins/_plugin_manager.py:555: UserWarning: Plugin 'napari_skimage_regionprops2' has already registered a function widget 'duplicate current frame' which has now been overwritten\n",
      "  warn(message=warn_message)\n",
      "/Users/bensnyder/anaconda3/envs/lauren_paper/lib/python3.12/site-packages/napari/plugins/_plugin_manager.py:555: UserWarning: Plugin 'napari_skimage_regionprops2' has already registered a function widget 'duplicate current frame' which has now been overwritten\n",
      "  warn(message=warn_message)\n",
      "/Users/bensnyder/anaconda3/envs/lauren_paper/lib/python3.12/site-packages/napari/plugins/_plugin_manager.py:555: UserWarning: Plugin 'napari_skimage_regionprops2' has already registered a function widget 'duplicate current frame' which has now been overwritten\n",
      "  warn(message=warn_message)\n",
      "/Users/bensnyder/anaconda3/envs/lauren_paper/lib/python3.12/site-packages/napari/plugins/_plugin_manager.py:555: UserWarning: Plugin 'napari_skimage_regionprops2' has already registered a function widget 'duplicate current frame' which has now been overwritten\n",
      "  warn(message=warn_message)\n",
      "/Users/bensnyder/anaconda3/envs/lauren_paper/lib/python3.12/site-packages/napari/plugins/_plugin_manager.py:555: UserWarning: Plugin 'napari_skimage_regionprops2' has already registered a function widget 'duplicate current frame' which has now been overwritten\n",
      "  warn(message=warn_message)\n",
      "/Users/bensnyder/anaconda3/envs/lauren_paper/lib/python3.12/site-packages/napari/plugins/_plugin_manager.py:555: UserWarning: Plugin 'napari_skimage_regionprops2' has already registered a function widget 'duplicate current frame' which has now been overwritten\n",
      "  warn(message=warn_message)\n",
      "/Users/bensnyder/anaconda3/envs/lauren_paper/lib/python3.12/site-packages/napari/plugins/_plugin_manager.py:555: UserWarning: Plugin 'napari_skimage_regionprops2' has already registered a function widget 'duplicate current frame' which has now been overwritten\n",
      "  warn(message=warn_message)\n",
      "/Users/bensnyder/anaconda3/envs/lauren_paper/lib/python3.12/site-packages/napari/plugins/_plugin_manager.py:555: UserWarning: Plugin 'napari_skimage_regionprops2' has already registered a function widget 'duplicate current frame' which has now been overwritten\n",
      "  warn(message=warn_message)\n"
     ]
    }
   ],
   "source": [
    "for im_path in IMAGE_DIR.glob(\"*.nd2\"):\n",
    "    csv_output_path = CSV_DIR.joinpath(im_path.stem + '.csv')\n",
    "    point_annotator(im_path, \n",
    "                    IM_PROP, \n",
    "                    csv_output_path, \n",
    "                    labels=['bkgd_1', \n",
    "                            'bkgd_2', \n",
    "                            'bkgd_3',\n",
    "                            'ph_1', \n",
    "                            'ph_2', \n",
    "                            'ph_3',\n",
    "                            'vir_P',\n",
    "                            'vir_A'], \n",
    "                    radius=3\n",
    "                )"
   ]
  }
 ],
 "metadata": {
  "kernelspec": {
   "display_name": "Python 3 (ipykernel)",
   "language": "python",
   "name": "python3"
  },
  "language_info": {
   "codemirror_mode": {
    "name": "ipython",
    "version": 3
   },
   "file_extension": ".py",
   "mimetype": "text/x-python",
   "name": "python",
   "nbconvert_exporter": "python",
   "pygments_lexer": "ipython3",
   "version": "3.9.21"
  }
 },
 "nbformat": 4,
 "nbformat_minor": 5
}
